{
 "cells": [
  {
   "cell_type": "markdown",
   "metadata": {
    "slideshow": {
     "slide_type": "slide"
    }
   },
   "source": [
    "# Python Basics I"
   ]
  },
  {
   "cell_type": "markdown",
   "metadata": {
    "slideshow": {
     "slide_type": "subslide"
    }
   },
   "source": [
    "The very first Python \"programme\":"
   ]
  },
  {
   "cell_type": "code",
   "execution_count": 1,
   "metadata": {
    "scrolled": true,
    "slideshow": {
     "slide_type": "fragment"
    }
   },
   "outputs": [
    {
     "name": "stdout",
     "output_type": "stream",
     "text": [
      "Helloooooo!\n"
     ]
    }
   ],
   "source": [
    "print('Helloooooo!')"
   ]
  },
  {
   "cell_type": "markdown",
   "metadata": {
    "slideshow": {
     "slide_type": "subslide"
    }
   },
   "source": [
    "Python as calculator:"
   ]
  },
  {
   "cell_type": "code",
   "execution_count": null,
   "metadata": {
    "slideshow": {
     "slide_type": "fragment"
    }
   },
   "outputs": [],
   "source": [
    "8 / 4"
   ]
  },
  {
   "cell_type": "markdown",
   "metadata": {
    "slideshow": {
     "slide_type": "subslide"
    }
   },
   "source": [
    "If more output is displayed across one cell `print()` statements have to be separated:"
   ]
  },
  {
   "cell_type": "code",
   "execution_count": 22,
   "metadata": {
    "slideshow": {
     "slide_type": "fragment"
    }
   },
   "outputs": [
    {
     "name": "stdout",
     "output_type": "stream",
     "text": [
      "3\n",
      "1\n"
     ]
    }
   ],
   "source": [
    "print(0 + 3)\n",
    "print(4 // 4)"
   ]
  },
  {
   "cell_type": "markdown",
   "metadata": {
    "slideshow": {
     "slide_type": "subslide"
    }
   },
   "source": [
    "**Data types:**\n",
    "* int (integral/non-fractional components)\n",
    "* float (Fractional components)\n",
    "* str (sequence of characters)\n",
    "\n",
    "**Operators:**\n",
    "* Arithmetic operators (`+`, `-`, `/`, `*`, etc.)\n",
    "* Logigal (boolean) operators (`and`, `or`, `not`, `==`, etc.)\n",
    "\n",
    "**Comments:**"
   ]
  },
  {
   "cell_type": "code",
   "execution_count": null,
   "metadata": {
    "slideshow": {
     "slide_type": "fragment"
    }
   },
   "outputs": [],
   "source": [
    "'this is not a number' # <--  Make extensive use of comments throughout your code!"
   ]
  },
  {
   "cell_type": "markdown",
   "metadata": {
    "slideshow": {
     "slide_type": "subslide"
    }
   },
   "source": [
    "Adding and multiplying even works with strings (sequence of characters):"
   ]
  },
  {
   "cell_type": "code",
   "execution_count": 2,
   "metadata": {
    "scrolled": false,
    "slideshow": {
     "slide_type": "fragment"
    }
   },
   "outputs": [
    {
     "name": "stdout",
     "output_type": "stream",
     "text": [
      "string1___string2\n",
      "string1string1string1string1string1string1string1string1string1string1string1string1string1string1string1string1string1string1string1string1string1string1string1string1string1string1string1string1string1string1string1string1string1string1string1string1string1string1string1string1string1string1string1string1string1string1string1string1string1string1string1string1string1string1string1string1string1string1string1string1string1string1string1string1string1string1string1string1string1string1string1string1string1string1string1string1string1string1string1\n"
     ]
    }
   ],
   "source": [
    "print('string1' + '___' + 'string2')\n",
    "print('string1' * 79)"
   ]
  },
  {
   "cell_type": "markdown",
   "metadata": {
    "slideshow": {
     "slide_type": "slide"
    }
   },
   "source": [
    "## Assignment in Python\n",
    "\n",
    "In order to store objects in the machine's memory (`namespace`) and to use them they need to be assigned to a unique representing symbol.\n",
    "\n",
    "``Symbol = Object``"
   ]
  },
  {
   "cell_type": "code",
   "execution_count": null,
   "metadata": {},
   "outputs": [],
   "source": []
  },
  {
   "cell_type": "code",
   "execution_count": 6,
   "metadata": {
    "slideshow": {
     "slide_type": "fragment"
    }
   },
   "outputs": [
    {
     "name": "stdout",
     "output_type": "stream",
     "text": [
      "bacon, eggs and eggs_more spam\n"
     ]
    }
   ],
   "source": [
    "spam = 'bacon, eggs and eggs'\n",
    "print(spam + '_' + 'more spam')"
   ]
  },
  {
   "cell_type": "markdown",
   "metadata": {
    "slideshow": {
     "slide_type": "subslide"
    }
   },
   "source": [
    "Using the [magic command](https://ipython.readthedocs.io/en/stable/interactive/magics.html) `%whos` all cached variables/objects can be retrieved:"
   ]
  },
  {
   "cell_type": "code",
   "execution_count": 7,
   "metadata": {
    "slideshow": {
     "slide_type": "fragment"
    }
   },
   "outputs": [
    {
     "name": "stdout",
     "output_type": "stream",
     "text": [
      "Variable   Type    Data/Info\n",
      "----------------------------\n",
      "spam       str     bacon, eggs and eggs\n"
     ]
    }
   ],
   "source": [
    "%whos"
   ]
  },
  {
   "cell_type": "code",
   "execution_count": 13,
   "metadata": {},
   "outputs": [],
   "source": [
    "spam2 = 'Second string'"
   ]
  },
  {
   "cell_type": "code",
   "execution_count": 14,
   "metadata": {},
   "outputs": [
    {
     "name": "stdout",
     "output_type": "stream",
     "text": [
      "Variable        Type    Data/Info\n",
      "---------------------------------\n",
      "some_variable   str     spam\n",
      "spam            str     bacon, eggs and eggs\n",
      "spam2           str     Second string\n"
     ]
    }
   ],
   "source": [
    "%whos"
   ]
  },
  {
   "cell_type": "code",
   "execution_count": 16,
   "metadata": {},
   "outputs": [],
   "source": [
    "spam = 'New string value'"
   ]
  },
  {
   "cell_type": "code",
   "execution_count": 17,
   "metadata": {},
   "outputs": [
    {
     "name": "stdout",
     "output_type": "stream",
     "text": [
      "Variable        Type    Data/Info\n",
      "---------------------------------\n",
      "some_variable   str     spam\n",
      "spam            str     New string value\n",
      "spam2           str     Second string\n"
     ]
    }
   ],
   "source": [
    "%whos"
   ]
  },
  {
   "cell_type": "markdown",
   "metadata": {
    "slideshow": {
     "slide_type": "subslide"
    }
   },
   "source": [
    "If symbols are called that are not existent in the cache an error message is thrown:"
   ]
  },
  {
   "cell_type": "code",
   "execution_count": 12,
   "metadata": {
    "scrolled": true,
    "slideshow": {
     "slide_type": "fragment"
    }
   },
   "outputs": [
    {
     "name": "stdout",
     "output_type": "stream",
     "text": [
      "spam\n",
      "Variable        Type    Data/Info\n",
      "---------------------------------\n",
      "some_variable   str     spam\n",
      "spam            str     bacon, eggs and eggs\n"
     ]
    }
   ],
   "source": [
    "some_variable = 'spam'\n",
    "print(some_variable)\n",
    "%whos"
   ]
  },
  {
   "cell_type": "markdown",
   "metadata": {
    "slideshow": {
     "slide_type": "subslide"
    }
   },
   "source": [
    "### Exercise 1\n",
    "\n",
    "Solve the riddle **Zero** of the **[Python-Challenge](http://www.pythonchallenge.com)**:\n",
    "\n",
    "> What is the Python Challenge? \n",
    "> The Python Challenge is a set of riddles that require a little bit of Python programming to be solved. The solutions are  entered by changing the address of the page (URL). You get used to the idea pretty fast after solving the first few levels.\n",
    "\n",
    "*Hint: Most Python problems can be solved by a quick [Google Search](http://lmgtfy.com/?q=how+to+do+exponentiation+in+python).*"
   ]
  },
  {
   "cell_type": "code",
   "execution_count": 18,
   "metadata": {
    "scrolled": true,
    "slideshow": {
     "slide_type": "subslide"
    }
   },
   "outputs": [
    {
     "data": {
      "text/html": [
       "\n",
       "        <iframe\n",
       "            width=\"800\"\n",
       "            height=\"400\"\n",
       "            src=\"http://www.pythonchallenge.com/pc/def/0.html\"\n",
       "            frameborder=\"0\"\n",
       "            allowfullscreen\n",
       "        ></iframe>\n",
       "        "
      ],
      "text/plain": [
       "<IPython.lib.display.IFrame at 0x1943e48c790>"
      ]
     },
     "execution_count": 18,
     "metadata": {},
     "output_type": "execute_result"
    }
   ],
   "source": [
    "from IPython.display import IFrame\n",
    "IFrame('http://www.pythonchallenge.com/pc/def/0.html', width = 800, height = 400)"
   ]
  },
  {
   "cell_type": "code",
   "execution_count": 27,
   "metadata": {
    "slideshow": {
     "slide_type": "subslide"
    }
   },
   "outputs": [],
   "source": [
    "NUMBER= str(2**38)"
   ]
  },
  {
   "cell_type": "code",
   "execution_count": 28,
   "metadata": {},
   "outputs": [
    {
     "data": {
      "text/html": [
       "\n",
       "        <iframe\n",
       "            width=\"800\"\n",
       "            height=\"400\"\n",
       "            src=\"http://www.pythonchallenge.com/pc/def/274877906944.html\"\n",
       "            frameborder=\"0\"\n",
       "            allowfullscreen\n",
       "        ></iframe>\n",
       "        "
      ],
      "text/plain": [
       "<IPython.lib.display.IFrame at 0x1943e48c1c0>"
      ]
     },
     "execution_count": 28,
     "metadata": {},
     "output_type": "execute_result"
    }
   ],
   "source": [
    "IFrame('http://www.pythonchallenge.com/pc/def/' + NUMBER + '.html', width = 800, height = 400)"
   ]
  },
  {
   "cell_type": "code",
   "execution_count": 29,
   "metadata": {},
   "outputs": [
    {
     "data": {
      "text/plain": [
       "274877906944"
      ]
     },
     "execution_count": 29,
     "metadata": {},
     "output_type": "execute_result"
    }
   ],
   "source": [
    "2**38"
   ]
  },
  {
   "cell_type": "code",
   "execution_count": 30,
   "metadata": {},
   "outputs": [
    {
     "data": {
      "text/html": [
       "\n",
       "        <iframe\n",
       "            width=\"800\"\n",
       "            height=\"400\"\n",
       "            src=\"http://www.pythonchallenge.com/pc/def/274877906944.html\"\n",
       "            frameborder=\"0\"\n",
       "            allowfullscreen\n",
       "        ></iframe>\n",
       "        "
      ],
      "text/plain": [
       "<IPython.lib.display.IFrame at 0x1943e48c190>"
      ]
     },
     "execution_count": 30,
     "metadata": {},
     "output_type": "execute_result"
    }
   ],
   "source": [
    "IFrame('http://www.pythonchallenge.com/pc/def/274877906944.html', width = 800, height = 400)"
   ]
  },
  {
   "cell_type": "code",
   "execution_count": 31,
   "metadata": {},
   "outputs": [],
   "source": [
    "wrong_answer=str(238)"
   ]
  },
  {
   "cell_type": "code",
   "execution_count": 32,
   "metadata": {},
   "outputs": [
    {
     "data": {
      "text/html": [
       "\n",
       "        <iframe\n",
       "            width=\"800\"\n",
       "            height=\"400\"\n",
       "            src=\"http://www.pythonchallenge.com/pc/def/238.html\"\n",
       "            frameborder=\"0\"\n",
       "            allowfullscreen\n",
       "        ></iframe>\n",
       "        "
      ],
      "text/plain": [
       "<IPython.lib.display.IFrame at 0x1943f4833d0>"
      ]
     },
     "execution_count": 32,
     "metadata": {},
     "output_type": "execute_result"
    }
   ],
   "source": [
    "IFrame('http://www.pythonchallenge.com/pc/def/' + wrong_answer + '.html', width = 800, height = 400)"
   ]
  },
  {
   "cell_type": "markdown",
   "metadata": {
    "slideshow": {
     "slide_type": "subslide"
    }
   },
   "source": [
    "### Exercise 2\n",
    "\n",
    "Write Python code that returns the amount of hours within seven weeks. Use object-oriented programming."
   ]
  },
  {
   "cell_type": "code",
   "execution_count": 46,
   "metadata": {},
   "outputs": [
    {
     "name": "stdout",
     "output_type": "stream",
     "text": [
      "in seven weeks there is a total number of 1176 hours.\n"
     ]
    }
   ],
   "source": [
    "hours_day = 24\n",
    "days_week=7\n",
    "week=7\n",
    "print(\"in seven weeks there is a total number of \" + str(hours_day*days_week *week) + \" hours.\")"
   ]
  },
  {
   "cell_type": "code",
   "execution_count": 48,
   "metadata": {},
   "outputs": [
    {
     "name": "stdout",
     "output_type": "stream",
     "text": [
      "Variable        Type    Data/Info\n",
      "---------------------------------\n",
      "IFrame          type    <class 'IPython.lib.display.IFrame'>\n",
      "NUMBER          str     274877906944\n",
      "days_week       int     7\n",
      "hours_day       int     24\n",
      "some_variable   str     spam\n",
      "spam            str     New string value\n",
      "spam2           str     Second string\n",
      "week            int     7\n",
      "wrong_answer    str     238\n",
      "x               str     String \n"
     ]
    }
   ],
   "source": [
    "%wh"
   ]
  },
  {
   "cell_type": "code",
   "execution_count": null,
   "metadata": {
    "slideshow": {
     "slide_type": "subslide"
    }
   },
   "outputs": [],
   "source": [
    "# Code for Exercise 2"
   ]
  },
  {
   "cell_type": "markdown",
   "metadata": {
    "slideshow": {
     "slide_type": "slide"
    }
   },
   "source": [
    "## Functions:\n",
    "\n",
    "Functions are \"Mini-\" or short cut programmes which can be repeatedly run for particular tasks. They are invoked in the pattern:\n",
    "\n",
    "`name_of_function(arguments)`"
   ]
  },
  {
   "cell_type": "code",
   "execution_count": 39,
   "metadata": {
    "slideshow": {
     "slide_type": "subslide"
    }
   },
   "outputs": [
    {
     "data": {
      "text/plain": [
       "7"
      ]
     },
     "execution_count": 39,
     "metadata": {},
     "output_type": "execute_result"
    }
   ],
   "source": [
    "x = 'String' + ' '\n",
    "len(x)"
   ]
  },
  {
   "cell_type": "markdown",
   "metadata": {
    "slideshow": {
     "slide_type": "subslide"
    }
   },
   "source": [
    "typing `?`  (alternatively key combination *Shift + Tab*) opens the `help` window:"
   ]
  },
  {
   "cell_type": "code",
   "execution_count": 41,
   "metadata": {
    "slideshow": {
     "slide_type": "fragment"
    }
   },
   "outputs": [],
   "source": [
    "?len"
   ]
  },
  {
   "cell_type": "markdown",
   "metadata": {
    "slideshow": {
     "slide_type": "subslide"
    }
   },
   "source": [
    "### Strings\n",
    "\n",
    "An arbitrarily long sequence of characters. Starts either with `'` or `\"` and **needs** to be closed with the identical sign. Once defined Strings are **immutable**."
   ]
  },
  {
   "cell_type": "code",
   "execution_count": 42,
   "metadata": {
    "scrolled": true,
    "slideshow": {
     "slide_type": "fragment"
    }
   },
   "outputs": [
    {
     "name": "stdout",
     "output_type": "stream",
     "text": [
      "String\n"
     ]
    }
   ],
   "source": [
    "print(\"String\")"
   ]
  },
  {
   "cell_type": "code",
   "execution_count": 43,
   "metadata": {
    "scrolled": true,
    "slideshow": {
     "slide_type": "subslide"
    }
   },
   "outputs": [
    {
     "ename": "SyntaxError",
     "evalue": "EOL while scanning string literal (<ipython-input-43-c187804300e1>, line 1)",
     "output_type": "error",
     "traceback": [
      "\u001b[1;36m  File \u001b[1;32m\"<ipython-input-43-c187804300e1>\"\u001b[1;36m, line \u001b[1;32m1\u001b[0m\n\u001b[1;33m    \"String'\u001b[0m\n\u001b[1;37m            ^\u001b[0m\n\u001b[1;31mSyntaxError\u001b[0m\u001b[1;31m:\u001b[0m EOL while scanning string literal\n"
     ]
    }
   ],
   "source": [
    "\"String'"
   ]
  },
  {
   "cell_type": "code",
   "execution_count": 44,
   "metadata": {
    "scrolled": true,
    "slideshow": {
     "slide_type": "fragment"
    }
   },
   "outputs": [
    {
     "ename": "SyntaxError",
     "evalue": "invalid syntax (<ipython-input-44-520f69e2b2d8>, line 1)",
     "output_type": "error",
     "traceback": [
      "\u001b[1;36m  File \u001b[1;32m\"<ipython-input-44-520f69e2b2d8>\"\u001b[1;36m, line \u001b[1;32m1\u001b[0m\n\u001b[1;33m    'don't'\u001b[0m\n\u001b[1;37m         ^\u001b[0m\n\u001b[1;31mSyntaxError\u001b[0m\u001b[1;31m:\u001b[0m invalid syntax\n"
     ]
    }
   ],
   "source": [
    "'don't'"
   ]
  },
  {
   "cell_type": "code",
   "execution_count": 45,
   "metadata": {
    "slideshow": {
     "slide_type": "fragment"
    }
   },
   "outputs": [
    {
     "data": {
      "text/plain": [
       "\"don't\""
      ]
     },
     "execution_count": 45,
     "metadata": {},
     "output_type": "execute_result"
    }
   ],
   "source": [
    "'don\\'t'"
   ]
  },
  {
   "cell_type": "markdown",
   "metadata": {
    "slideshow": {
     "slide_type": "slide"
    }
   },
   "source": [
    "## Indexation\n",
    "\n",
    "Python objects that represent an ordered sequence (e.g. Strings, lists, tuples) can be queried through an Index.\n",
    "This index allows it to specify/retrieve/modify the corresponding element (or group) within the sequence.\n",
    "\n",
    "In general this pattern holds formally:\n",
    "\n",
    "`Object[i:j:k]` = from `i` (including) through below `j` (excluding) in `k` steps."
   ]
  },
  {
   "cell_type": "markdown",
   "metadata": {
    "slideshow": {
     "slide_type": "subslide"
    }
   },
   "source": [
    "### Python starts in the basement (0)!\n",
    "\n",
    "Python implements a zero-based indexation which makes the first element (differently to `R`, for example) correspond to a `0`:"
   ]
  },
  {
   "cell_type": "code",
   "execution_count": 49,
   "metadata": {
    "slideshow": {
     "slide_type": "subslide"
    }
   },
   "outputs": [
    {
     "name": "stdout",
     "output_type": "stream",
     "text": [
      "t\n"
     ]
    }
   ],
   "source": [
    "x = 'String'\n",
    "print(x[1])"
   ]
  },
  {
   "cell_type": "code",
   "execution_count": 50,
   "metadata": {
    "slideshow": {
     "slide_type": "subslide"
    }
   },
   "outputs": [
    {
     "name": "stdout",
     "output_type": "stream",
     "text": [
      "r\n",
      "tring\n",
      "tr\n"
     ]
    }
   ],
   "source": [
    "print(x[2]) # the \"third\" element (0, 1, 2)\n",
    "print(x[1:]) # each element from 1 't'\n",
    "print(x[1:3]) # from 1 (including) through 3 (excluding)"
   ]
  },
  {
   "cell_type": "markdown",
   "metadata": {
    "slideshow": {
     "slide_type": "subslide"
    }
   },
   "source": [
    "### Exercise 3\n",
    "Given are two objects\n",
    "````\n",
    "str1 = \"Superkalilegorisch\"\n",
    "str2 = \"fragilistischexpial\"\n",
    "````\n",
    "Write Python code which returns the String *Superkalifragilistischexpiallegorisch*. Don't use quotation marks but indexation instead."
   ]
  },
  {
   "cell_type": "code",
   "execution_count": 66,
   "metadata": {
    "slideshow": {
     "slide_type": "subslide"
    }
   },
   "outputs": [
    {
     "name": "stdout",
     "output_type": "stream",
     "text": [
      "Superkalifragilistischexpiallegorisch\n",
      "Superkalifragilistischexpiallegorisch\n",
      "True\n"
     ]
    }
   ],
   "source": [
    "str1 = \"Superkalilegorisch\"\n",
    "str2 = \"fragilistischexpial\"\n",
    "ans= str1[0:9] + str2[0:] + str1[9:]\n",
    "print(ans)\n",
    "print(str1[0:9] + str2[0:] + str1[9:])\n",
    "print(ans == 'Superkalifragilistischexpiallegorisch')"
   ]
  },
  {
   "cell_type": "markdown",
   "metadata": {
    "slideshow": {
     "slide_type": "slide"
    }
   },
   "source": [
    " \n",
    " ###  Data types\n",
    "\n",
    "The type of any objects can be queried through the function `type()`:"
   ]
  },
  {
   "cell_type": "code",
   "execution_count": 73,
   "metadata": {
    "slideshow": {
     "slide_type": "fragment"
    }
   },
   "outputs": [
    {
     "name": "stdout",
     "output_type": "stream",
     "text": [
      "<class 'float'>\n",
      "foo\n",
      "6.0\n",
      "77777\n",
      "4 - 1\n",
      "12\n"
     ]
    },
    {
     "data": {
      "text/plain": [
       "float"
      ]
     },
     "execution_count": 73,
     "metadata": {},
     "output_type": "execute_result"
    }
   ],
   "source": [
    "a = \"foo\"\n",
    "b = 4 + 2.0\n",
    "c = 5 * \"7\"\n",
    "d = \"4 - 1\"\n",
    "\n",
    "print(type(b))\n",
    "print(a)\n",
    "print(b)\n",
    "print(c)\n",
    "print(d)\n",
    "\n",
    "print(str(5 + 7))\n",
    "type(b)\n"
   ]
  },
  {
   "cell_type": "markdown",
   "metadata": {
    "slideshow": {
     "slide_type": "subslide"
    }
   },
   "source": [
    "Depending on data type different operations are admissible/possible. Individual components of a String are immutable:"
   ]
  },
  {
   "cell_type": "code",
   "execution_count": 77,
   "metadata": {
    "slideshow": {
     "slide_type": "fragment"
    }
   },
   "outputs": [
    {
     "ename": "TypeError",
     "evalue": "'str' object does not support item assignment",
     "output_type": "error",
     "traceback": [
      "\u001b[1;31m---------------------------------------------------------------------------\u001b[0m",
      "\u001b[1;31mTypeError\u001b[0m                                 Traceback (most recent call last)",
      "\u001b[1;32m<ipython-input-77-8b859d25ba2f>\u001b[0m in \u001b[0;36m<module>\u001b[1;34m\u001b[0m\n\u001b[0;32m      1\u001b[0m \u001b[1;31m## Immutable\u001b[0m\u001b[1;33m\u001b[0m\u001b[1;33m\u001b[0m\u001b[1;33m\u001b[0m\u001b[0m\n\u001b[0;32m      2\u001b[0m \u001b[0ms1\u001b[0m \u001b[1;33m=\u001b[0m \u001b[1;34m'Spam, Spam, beans and eggs'\u001b[0m\u001b[1;33m\u001b[0m\u001b[1;33m\u001b[0m\u001b[0m\n\u001b[1;32m----> 3\u001b[1;33m \u001b[0ms1\u001b[0m\u001b[1;33m[\u001b[0m\u001b[1;36m4\u001b[0m\u001b[1;33m]\u001b[0m \u001b[1;33m=\u001b[0m \u001b[1;34m'x'\u001b[0m \u001b[1;31m# Error\u001b[0m\u001b[1;33m\u001b[0m\u001b[1;33m\u001b[0m\u001b[0m\n\u001b[0m",
      "\u001b[1;31mTypeError\u001b[0m: 'str' object does not support item assignment"
     ]
    }
   ],
   "source": [
    "## Immutable\n",
    "s1 = 'Spam, Spam, beans and eggs'\n",
    "s1[4] = 'x' # Error"
   ]
  },
  {
   "cell_type": "markdown",
   "metadata": {
    "slideshow": {
     "slide_type": "subslide"
    }
   },
   "source": [
    "Exception: Construction of a new String"
   ]
  },
  {
   "cell_type": "code",
   "execution_count": 78,
   "metadata": {
    "slideshow": {
     "slide_type": "fragment"
    }
   },
   "outputs": [
    {
     "name": "stdout",
     "output_type": "stream",
     "text": [
      "Spam, Spam, beans and eggs with Spam on the side!\n"
     ]
    }
   ],
   "source": [
    "# Adding and object assignment in one step through +=\n",
    "s1 += ' with Spam on the side!'\n",
    "print(s1)"
   ]
  },
  {
   "cell_type": "markdown",
   "metadata": {
    "slideshow": {
     "slide_type": "subslide"
    }
   },
   "source": [
    "Some useful functions and methods for processing of Strings:"
   ]
  },
  {
   "cell_type": "code",
   "execution_count": 82,
   "metadata": {
    "slideshow": {
     "slide_type": "fragment"
    }
   },
   "outputs": [
    {
     "name": "stdout",
     "output_type": "stream",
     "text": [
      "3\n",
      "9\n",
      "SPAM, SPAM, BEANS AND EGGS WITH SPAM ON THE SIDE!\n"
     ]
    }
   ],
   "source": [
    "## How much Spam?\n",
    "print(s1.lower().count('spam')) # s1.lower() convert all letters of s1 in lower letters .count('spam') than counts how \n",
    "# often \"spam\" appears\n",
    "\n",
    "## How many words?\n",
    "print(s1.count(' '))\n",
    "\n",
    "s1 = s1.upper()\n",
    "print(s1)"
   ]
  },
  {
   "cell_type": "code",
   "execution_count": 83,
   "metadata": {
    "slideshow": {
     "slide_type": "subslide"
    }
   },
   "outputs": [
    {
     "name": "stdout",
     "output_type": "stream",
     "text": [
      "SPAM, SPAM, BEANS AND EGGS WITH SPAM ON THE SIDE!\n",
      "<class 'int'>\n"
     ]
    },
    {
     "data": {
      "text/plain": [
       "'BEANS AND EGGS WITH SPAM ON THE SIDE!'"
      ]
     },
     "execution_count": 83,
     "metadata": {},
     "output_type": "execute_result"
    }
   ],
   "source": [
    "## Finding first index place of a given element:\n",
    "print(s1)\n",
    "index = s1.find('BEANS')\n",
    "print(type(index))\n",
    "s1[index:]"
   ]
  },
  {
   "cell_type": "code",
   "execution_count": 84,
   "metadata": {
    "slideshow": {
     "slide_type": "subslide"
    }
   },
   "outputs": [
    {
     "name": "stdout",
     "output_type": "stream",
     "text": [
      "SPAM, SPAM, BEANS AND EGGS WITH SPAM ON THE SIDE!\n"
     ]
    },
    {
     "data": {
      "text/plain": [
       "False"
      ]
     },
     "execution_count": 84,
     "metadata": {},
     "output_type": "execute_result"
    }
   ],
   "source": [
    "print(s1)\n",
    "s1.islower() # uppercase"
   ]
  },
  {
   "cell_type": "code",
   "execution_count": 85,
   "metadata": {
    "slideshow": {
     "slide_type": "subslide"
    }
   },
   "outputs": [
    {
     "name": "stdout",
     "output_type": "stream",
     "text": [
      "SPAM, SPAM, BEANS AND EGGS WITH SPAM ON THE SIDE!\n",
      "SPAM,_SPAM,_BEANS_AND_EGGS_WITH_SPAM_ON_THE_SIDE!\n"
     ]
    }
   ],
   "source": [
    "print(s1)\n",
    "print(s1.replace(' ', '_')) # replace"
   ]
  },
  {
   "cell_type": "markdown",
   "metadata": {
    "slideshow": {
     "slide_type": "subslide"
    }
   },
   "source": [
    "### Exercise 4\n",
    "\n",
    "Given are three Strings. Combine those Strings to a new object such that all letters are stored in lower cases. Replace all whitespaces (\" \") by underscores `_`. How many times does the letter *i* appear in the new constructed String?"
   ]
  },
  {
   "cell_type": "code",
   "execution_count": 94,
   "metadata": {
    "slideshow": {
     "slide_type": "subslide"
    }
   },
   "outputs": [
    {
     "name": "stdout",
     "output_type": "stream",
     "text": [
      "Simple is better than complex. COMPLEX IS BETTER THAN COMPLICATED. flat is better than nested.\n",
      "simple is better than complex. complex is better than complicated. flat is better than nested.\n",
      "simple_is_better_than_complex._complex_is_better_than_complicated._flat_is_better_than_nested.\n",
      "5\n",
      "simple is better than complex. complex is better than complicated. flat is better than nested.\n",
      "simple_is_better_than_complex._complex_is_better_than_complicated._flat_is_better_than_nested.\n",
      "5\n"
     ]
    }
   ],
   "source": [
    "# Code for Exercise 4\n",
    "\n",
    "zen_ = \"Simple is better than complex. \"\n",
    "of_ = \"COMPLEX IS BETTER THAN COMPLICATED. \"\n",
    "python_ = \"flat is better than nested.\"\n",
    "\n",
    "# My version\n",
    "zen_of_python=zen_ + of_ + python_\n",
    "print(zen_of_python)\n",
    "\n",
    "zen_of_python = zen_of_python.lower()\n",
    "print(zen_of_python)\n",
    "\n",
    "print(zen_of_python.replace(' ', '_'))\n",
    "\n",
    "print(zen_of_python.lower().count('i'))\n",
    "\n",
    "# his version\n",
    "\n",
    "# first step\n",
    "new_lower = zen_.lower() + of_.lower() + python_.lower()\n",
    "print(new_lower)\n",
    "\n",
    "#second step\n",
    "new_lower_underscore = new_lower.replace(' ', '_')\n",
    "print(new_lower_underscore)\n",
    "# third step\n",
    "ans = new_lower_underscore.count('i')\n",
    "print(ans)"
   ]
  },
  {
   "cell_type": "markdown",
   "metadata": {
    "slideshow": {
     "slide_type": "slide"
    }
   },
   "source": [
    "## Lists\n",
    "\n",
    "Lists are immutable sequences. They start with `[` and end with `]`. Individual elements are separated by `,`. Lists do have an index by default."
   ]
  },
  {
   "cell_type": "code",
   "execution_count": 97,
   "metadata": {
    "slideshow": {
     "slide_type": "subslide"
    }
   },
   "outputs": [
    {
     "name": "stdout",
     "output_type": "stream",
     "text": [
      "8\n",
      "4\n"
     ]
    },
    {
     "data": {
      "text/plain": [
       "list"
      ]
     },
     "execution_count": 97,
     "metadata": {},
     "output_type": "execute_result"
    }
   ],
   "source": [
    "numbers = [1, 3, 3, 7]\n",
    "print(numbers[0] + numbers[-1]) # number \n",
    "\n",
    "print(numbers[0] + numbers[-2]) # number \n",
    "\n",
    "type(numbers)"
   ]
  },
  {
   "cell_type": "code",
   "execution_count": 98,
   "metadata": {
    "slideshow": {
     "slide_type": "subslide"
    }
   },
   "outputs": [
    {
     "name": "stdout",
     "output_type": "stream",
     "text": [
      "Sp@m\n",
      "@\n"
     ]
    }
   ],
   "source": [
    "L = ['Spam', 'Sp@m', 'beans', 'and', 'eggs', [1, 2, 5]] # you can also stack lists inside of lists\n",
    "print(L[1])\n",
    "print(L[1][2])"
   ]
  },
  {
   "cell_type": "code",
   "execution_count": 99,
   "metadata": {
    "slideshow": {
     "slide_type": "subslide"
    }
   },
   "outputs": [
    {
     "name": "stdout",
     "output_type": "stream",
     "text": [
      "['Spam', 'Sp@m', 'beans', 'and', 'eggs', [1, 2, 5]]\n",
      "['Spam', 'Sp@m', 'Spam', 'and', 'eggs', [1, 2, 5]]\n"
     ]
    }
   ],
   "source": [
    "## not immutable:\n",
    "print(L)\n",
    "L[2] = 'Spam'\n",
    "print(L)"
   ]
  },
  {
   "cell_type": "code",
   "execution_count": 100,
   "metadata": {
    "scrolled": true,
    "slideshow": {
     "slide_type": "subslide"
    }
   },
   "outputs": [
    {
     "name": "stdout",
     "output_type": "stream",
     "text": [
      "['Spam', 'Sp@m', ['Spam'], 'and', 'eggs', [1, 2, 5]]\n"
     ]
    }
   ],
   "source": [
    "## Difference?\n",
    "L[2] = ['Spam'] # Note: List of list!\n",
    "print(L)"
   ]
  },
  {
   "cell_type": "code",
   "execution_count": 101,
   "metadata": {
    "slideshow": {
     "slide_type": "subslide"
    }
   },
   "outputs": [
    {
     "name": "stdout",
     "output_type": "stream",
     "text": [
      "['Spam', ' Spam', ' beans and eggs']\n"
     ]
    }
   ],
   "source": [
    "## Splitting individual String elements into a list\n",
    "s2 = 'Spam, Spam, beans and eggs'\n",
    "print(s2.split(','))"
   ]
  },
  {
   "cell_type": "markdown",
   "metadata": {
    "slideshow": {
     "slide_type": "slide"
    }
   },
   "source": [
    "### Functions vs. Methods\n",
    "\n",
    "Functions are \"fed\" with an object (=input) which they use to perform some operation(s). Their output is in general a new object. Methods are integrated in their objects. They \"instruct\" their objects to perform some operation(s) on themselves and are hence modified \"on-the-fly\"."
   ]
  },
  {
   "cell_type": "code",
   "execution_count": 102,
   "metadata": {
    "slideshow": {
     "slide_type": "subslide"
    }
   },
   "outputs": [
    {
     "data": {
      "text/plain": [
       "[400, 'g', 'a', 1]"
      ]
     },
     "execution_count": 102,
     "metadata": {},
     "output_type": "execute_result"
    }
   ],
   "source": [
    "## Liste sortieren als Funktion:\n",
    "L = [400, 'g', 'a', 1]\n",
    "L"
   ]
  },
  {
   "cell_type": "code",
   "execution_count": 103,
   "metadata": {
    "slideshow": {
     "slide_type": "subslide"
    }
   },
   "outputs": [
    {
     "name": "stdout",
     "output_type": "stream",
     "text": [
      "[400, 1]\n"
     ]
    }
   ],
   "source": [
    "L1 = [L[0], L[-1]]\n",
    "print(L1)"
   ]
  },
  {
   "cell_type": "code",
   "execution_count": 104,
   "metadata": {
    "slideshow": {
     "slide_type": "subslide"
    }
   },
   "outputs": [
    {
     "name": "stdout",
     "output_type": "stream",
     "text": [
      "['g', 'a']\n"
     ]
    }
   ],
   "source": [
    "L2 = [L[1], L[2]]\n",
    "print(L2)"
   ]
  },
  {
   "cell_type": "code",
   "execution_count": 105,
   "metadata": {
    "slideshow": {
     "slide_type": "subslide"
    }
   },
   "outputs": [
    {
     "name": "stdout",
     "output_type": "stream",
     "text": [
      "[1, 400]\n"
     ]
    }
   ],
   "source": [
    "print(sorted(L1))"
   ]
  },
  {
   "cell_type": "code",
   "execution_count": 106,
   "metadata": {},
   "outputs": [
    {
     "name": "stdout",
     "output_type": "stream",
     "text": [
      "['a', 'g']\n"
     ]
    }
   ],
   "source": [
    "print(sorted(L2))"
   ]
  },
  {
   "cell_type": "code",
   "execution_count": 107,
   "metadata": {},
   "outputs": [
    {
     "name": "stdout",
     "output_type": "stream",
     "text": [
      "['g', 'a']\n"
     ]
    }
   ],
   "source": [
    "print(L2)"
   ]
  },
  {
   "cell_type": "code",
   "execution_count": 108,
   "metadata": {
    "slideshow": {
     "slide_type": "subslide"
    }
   },
   "outputs": [
    {
     "name": "stdout",
     "output_type": "stream",
     "text": [
      "['g', 'a']\n",
      "['a', 'g']\n"
     ]
    }
   ],
   "source": [
    "## Liste sortieren als Methode:\n",
    "print(L2)\n",
    "L2.sort()\n",
    "print(L2)"
   ]
  },
  {
   "cell_type": "code",
   "execution_count": 109,
   "metadata": {},
   "outputs": [
    {
     "name": "stdout",
     "output_type": "stream",
     "text": [
      "['g', 'a']\n"
     ]
    }
   ],
   "source": [
    "L2.sort(reverse=True)\n",
    "print(L2)"
   ]
  },
  {
   "cell_type": "code",
   "execution_count": 110,
   "metadata": {},
   "outputs": [
    {
     "name": "stdout",
     "output_type": "stream",
     "text": [
      "just one more try\n"
     ]
    }
   ],
   "source": [
    "print('just one more try')"
   ]
  },
  {
   "cell_type": "markdown",
   "metadata": {},
   "source": [
    "<br>\n",
    "<br>\n",
    "\n",
    "\n",
    "___\n",
    "\n",
    "                \n",
    "**Contact: Gerome Wolf** (Email: wolfgerome@gmail.com)"
   ]
  }
 ],
 "metadata": {
  "kernelspec": {
   "display_name": "Python 3",
   "language": "python",
   "name": "python3"
  },
  "language_info": {
   "codemirror_mode": {
    "name": "ipython",
    "version": 3
   },
   "file_extension": ".py",
   "mimetype": "text/x-python",
   "name": "python",
   "nbconvert_exporter": "python",
   "pygments_lexer": "ipython3",
   "version": "3.9.2"
  }
 },
 "nbformat": 4,
 "nbformat_minor": 2
}
