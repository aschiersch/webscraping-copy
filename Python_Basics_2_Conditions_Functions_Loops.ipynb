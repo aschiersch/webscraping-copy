{
 "cells": [
  {
   "cell_type": "markdown",
   "metadata": {
    "collapsed": true,
    "slideshow": {
     "slide_type": "slide"
    }
   },
   "source": [
    "# Conditions, Functions and Loops"
   ]
  },
  {
   "cell_type": "markdown",
   "metadata": {
    "slideshow": {
     "slide_type": "subslide"
    }
   },
   "source": [
    "## Conditions"
   ]
  },
  {
   "cell_type": "markdown",
   "metadata": {
    "slideshow": {
     "slide_type": "fragment"
    }
   },
   "source": [
    "### `if`\n",
    "\n",
    "\n",
    "`if` checks a condition and performs an operation as instructed if the condition is met.\n",
    "\n",
    "`else` needs to be followed after `if`. Executes an instruction in case the former `if` condition was not met.\n",
    "\n",
    "`elif` (is optional) follows `if` and precedes `else`. Checks an additional `if` condition."
   ]
  },
  {
   "cell_type": "code",
   "execution_count": 2,
   "metadata": {
    "slideshow": {
     "slide_type": "subslide"
    }
   },
   "outputs": [
    {
     "name": "stdout",
     "output_type": "stream",
     "text": [
      "False!\n"
     ]
    }
   ],
   "source": [
    "if 7 != 7:\n",
    "    print('True!')\n",
    "else:\n",
    "    print('False!')"
   ]
  },
  {
   "cell_type": "code",
   "execution_count": 3,
   "metadata": {
    "slideshow": {
     "slide_type": "subslide"
    }
   },
   "outputs": [
    {
     "name": "stdout",
     "output_type": "stream",
     "text": [
      "True!\n"
     ]
    }
   ],
   "source": [
    "if 1 < 2:\n",
    "    print('True!')\n",
    "else: \n",
    "    print('False!')"
   ]
  },
  {
   "cell_type": "code",
   "execution_count": 6,
   "metadata": {
    "slideshow": {
     "slide_type": "subslide"
    }
   },
   "outputs": [
    {
     "name": "stdout",
     "output_type": "stream",
     "text": [
      "Input integer!:3\n",
      "Odd!\n"
     ]
    }
   ],
   "source": [
    "number = input('Input integer!:')\n",
    "\n",
    "if not number.isdigit():\n",
    "    print('Not an integer!')\n",
    "elif int(number) % 2 != 0: #  % = remainder operator , int() converts String to Number\n",
    "    print('Odd!')\n",
    "else: \n",
    "    print('Even!')"
   ]
  },
  {
   "cell_type": "markdown",
   "metadata": {
    "slideshow": {
     "slide_type": "subslide"
    }
   },
   "source": [
    "### Boolean expressions\n",
    "\n",
    "* `True` and `False`\n",
    "* `1` and `0`\n",
    "*  `None` is always meaning `False`\n",
    "* Empty objects (`[]`, `()`, `{}`, etc.) are always evaluated as `False`\n",
    "\n",
    "See [Python Docs](https://docs.python.org/3/library/stdtypes.html#truth-value-testing)"
   ]
  },
  {
   "cell_type": "code",
   "execution_count": 7,
   "metadata": {
    "slideshow": {
     "slide_type": "subslide"
    }
   },
   "outputs": [
    {
     "name": "stdout",
     "output_type": "stream",
     "text": [
      "Empty List\n",
      "[3]\n"
     ]
    }
   ],
   "source": [
    "L = []\n",
    "if L: # Boolean Query for \"if L NOT EQUAL to EMPTY\"\n",
    "    print(L[0])\n",
    "else: \n",
    "    print('Empty List')\n",
    "    L.append(3)\n",
    "print(L)"
   ]
  },
  {
   "cell_type": "markdown",
   "metadata": {
    "slideshow": {
     "slide_type": "subslide"
    }
   },
   "source": [
    "### Exercise 1\n",
    "\n",
    "Write a programme which checks whether an input string contains \"spam\" or not. In case that \"spam\" is identified (at least once), the programme should return the number of \"spam\" occurring as a substring. If there is no \"spam\" at all the programme should print such a hint."
   ]
  },
  {
   "cell_type": "code",
   "execution_count": null,
   "metadata": {
    "slideshow": {
     "slide_type": "subslide"
    }
   },
   "outputs": [],
   "source": [
    "# Code for Exercise 1\n"
   ]
  },
  {
   "cell_type": "markdown",
   "metadata": {
    "slideshow": {
     "slide_type": "subslide"
    }
   },
   "source": [
    "### Exercise 2 \n",
    "\n",
    "Write a programme that checks whether a number is divisible. If the number is divisable by 5 and 3, the programme should print such a hint. Furthermore, the programme should distinguish whether the input number is only divisible by 5, only by 3 or neither by 5 nor 3.\n",
    "\n",
    "*Input/Output example*: \n",
    "\n",
    "```    \n",
    "5   --> \"divisible through 5\"\n",
    "15  --> \"divisible through 5 AND 3\"\n",
    "2   --> \"divisible neither through 5 NOR 3\"\n",
    "```"
   ]
  },
  {
   "cell_type": "code",
   "execution_count": null,
   "metadata": {
    "slideshow": {
     "slide_type": "subslide"
    }
   },
   "outputs": [],
   "source": [
    "# Code Exercise 2\n"
   ]
  },
  {
   "cell_type": "markdown",
   "metadata": {
    "slideshow": {
     "slide_type": "slide"
    }
   },
   "source": [
    "## Defining functions"
   ]
  },
  {
   "cell_type": "markdown",
   "metadata": {
    "slideshow": {
     "slide_type": "subslide"
    }
   },
   "source": [
    "Functions in Python receive Input(s) and generate after processing it some output. Once defined and stored in the cache functions can readily be re-used."
   ]
  },
  {
   "cell_type": "code",
   "execution_count": 8,
   "metadata": {
    "slideshow": {
     "slide_type": "subslide"
    }
   },
   "outputs": [
    {
     "name": "stdout",
     "output_type": "stream",
     "text": [
      "6\n",
      "4000\n"
     ]
    }
   ],
   "source": [
    "def largest_number(input_list): # name and input\n",
    "    max_number = max(input_list)\n",
    "    print(len(input_list))\n",
    "    return max_number\n",
    "\n",
    "# return ends the function\n",
    "\n",
    "test = largest_number([9, 4, 9, 23, 9, 4000])\n",
    "print(test)"
   ]
  },
  {
   "cell_type": "code",
   "execution_count": 9,
   "metadata": {},
   "outputs": [
    {
     "data": {
      "text/plain": [
       "4001"
      ]
     },
     "execution_count": 9,
     "metadata": {},
     "output_type": "execute_result"
    }
   ],
   "source": [
    "test +1 "
   ]
  },
  {
   "cell_type": "markdown",
   "metadata": {
    "slideshow": {
     "slide_type": "subslide"
    }
   },
   "source": [
    "Self-defined functions are especially useful if particular tasks are repeatedly executed. - [DRY - Don't repeat yourself!](https://de.wikipedia.org/wiki/Don%E2%80%99t_repeat_yourself)\n",
    "\n",
    "As a rule of thumb: if a process is repeated >=3 times it is reasonable to write a function for it."
   ]
  },
  {
   "cell_type": "markdown",
   "metadata": {
    "slideshow": {
     "slide_type": "subslide"
    }
   },
   "source": [
    "### Exercise 3\n",
    "\n",
    "Write a function which returns for an abritrarily long list of numbers (input) the arithmetic mean across the list (output). *Hint: function* ``sum()`` \n",
    "\n",
    "*Bonus: Implement the function for the [Median](https://de.wikipedia.org/wiki/Median).*"
   ]
  },
  {
   "cell_type": "code",
   "execution_count": 13,
   "metadata": {
    "slideshow": {
     "slide_type": "subslide"
    }
   },
   "outputs": [
    {
     "name": "stdout",
     "output_type": "stream",
     "text": [
      "4.5\n"
     ]
    }
   ],
   "source": [
    "def mean_function(input_list): # name and input\n",
    "    sum_number = sum(input_list)\n",
    "    Anzahl = len(input_list)\n",
    "    mean = sum_number/Anzahl\n",
    "    return mean# Code Exercise 3\n",
    "\n",
    "test = mean_function([2, 3, 4, 5, 6, 7])\n",
    "print(test)"
   ]
  },
  {
   "cell_type": "code",
   "execution_count": 16,
   "metadata": {},
   "outputs": [
    {
     "name": "stdout",
     "output_type": "stream",
     "text": [
      "2\n"
     ]
    }
   ],
   "source": [
    "def calcmean(input_list):\n",
    "    means = sum(input_list)//len(input_list)\n",
    "    return means\n",
    "test2 = calcmean([1,2,3])\n",
    "print(test2)"
   ]
  },
  {
   "cell_type": "markdown",
   "metadata": {
    "slideshow": {
     "slide_type": "slide"
    }
   },
   "source": [
    "## Loops\n",
    "\n",
    "An instruction to repeat an operation according to particular rules. Objects that are being handled in the function might be changed.\n",
    "\n",
    "Comes in two variants:\n",
    "\n",
    "* `while`- loop\n",
    "* `for`- loop\n",
    "\n",
    "See [Python Docs](https://docs.python.org/3/tutorial/controlflow.html)"
   ]
  },
  {
   "cell_type": "markdown",
   "metadata": {
    "slideshow": {
     "slide_type": "subslide"
    }
   },
   "source": [
    "### `while` - loops\n",
    "\n",
    "1. Check condition.\n",
    "2. In case (IF) condition true:\n",
    "    2. Perform operation.\n",
    "    2. Go to 1.\n",
    "3. In case condition not true:\n",
    "    3. End loop (an implict break)"
   ]
  },
  {
   "cell_type": "markdown",
   "metadata": {
    "slideshow": {
     "slide_type": "subslide"
    }
   },
   "source": [
    "### Example: [Fibonacci series](https://de.wikipedia.org/wiki/Fibonacci-Folge)\n",
    "\n",
    "$$  \n",
    "f_n =\n",
    "\\begin{cases}\n",
    "f_n = n,  & \\text{if $n \\le 2$} \\\\\n",
    "f_{n-1} + f_{n-2}, & \\text{if $n \\gt 2$}\n",
    "\\end{cases} \n",
    "$$\n",
    "\n",
    "$f = 0, 1, 1, 2, 3, 5, 8, 13, \\dots$"
   ]
  },
  {
   "cell_type": "code",
   "execution_count": 18,
   "metadata": {
    "slideshow": {
     "slide_type": "fragment"
    }
   },
   "outputs": [
    {
     "name": "stdout",
     "output_type": "stream",
     "text": [
      "[0, 1, 1, 2, 3, 5, 8, 13, 21, 34, 55, 89, 144, 233, 377, 610, 987, 1597, 2584, 4181, 6765, 10946, 17711, 28657, 46368, 75025, 121393, 196418, 317811, 514229, 832040, 1346269]\n"
     ]
    }
   ],
   "source": [
    "def fibonacci(stop):  #  Input: stop criterion\n",
    "    L = []\n",
    "    a, b = 0, 1 \n",
    "    while a < stop:\n",
    "        L.append(a)\n",
    "        a, b = b, a + b\n",
    "    return L # Output: List of Fibonacci series\n",
    "\n",
    "sequence = fibonacci(2000000)\n",
    "print(sequence)"
   ]
  },
  {
   "cell_type": "markdown",
   "metadata": {
    "slideshow": {
     "slide_type": "subslide"
    }
   },
   "source": [
    "**Caution**: `while` loops can run *infinitely*, in case the checking condition is never evaluated as `False`:"
   ]
  },
  {
   "cell_type": "code",
   "execution_count": null,
   "metadata": {
    "slideshow": {
     "slide_type": "fragment"
    }
   },
   "outputs": [],
   "source": [
    "i = 5\n",
    "while i > 0:\n",
    "    print(i)\n",
    "    print(\"Press 'i' 2 times to interrupt the programme!\")"
   ]
  },
  {
   "cell_type": "markdown",
   "metadata": {
    "slideshow": {
     "slide_type": "subslide"
    }
   },
   "source": [
    "In case a Notebook crashes or the execution of a cell takes too long, the computations can be manually interrupted by **Kernel -> Interrupt** and the Notebook and Kernel need to be restarted by **Kernel -> Restart**. All previous cached results will be lost."
   ]
  },
  {
   "cell_type": "markdown",
   "metadata": {
    "slideshow": {
     "slide_type": "subslide"
    }
   },
   "source": [
    "## `for` - loops\n",
    "\n",
    "`for` loops are the most useful instruments for processing of data. The basic principle:\n",
    "\n",
    "For every element in a sequence:\n",
    "    1. Perform operation\n",
    "    2. Continue with the next element\n",
    "    3. If no more elements:\n",
    "           End loop.\n",
    "    4. Else:\n",
    "           Go to 1."
   ]
  },
  {
   "cell_type": "code",
   "execution_count": null,
   "metadata": {
    "slideshow": {
     "slide_type": "subslide"
    }
   },
   "outputs": [],
   "source": [
    "for element in [1, 2, 3]:\n",
    "    print(element)"
   ]
  },
  {
   "cell_type": "markdown",
   "metadata": {
    "slideshow": {
     "slide_type": "subslide"
    }
   },
   "source": [
    "Returning the frequency of each word using a `for` loop:"
   ]
  },
  {
   "cell_type": "code",
   "execution_count": 32,
   "metadata": {
    "slideshow": {
     "slide_type": "fragment"
    }
   },
   "outputs": [
    {
     "name": "stdout",
     "output_type": "stream",
     "text": [
      "Well, there's egg and bacon; egg sausage and bacon;\n",
      "egg and spam; egg bacon and spam; egg bacon sausage and spam; spam bacon sausage and spam;\n",
      "spam egg spam spam bacon and spam; spam sausage spam spam bacon spam tomato and spam;\n"
     ]
    }
   ],
   "source": [
    "spamskit = '''Well, there's egg and bacon; egg sausage and bacon;\n",
    "egg and spam; egg bacon and spam; egg bacon sausage and spam; spam bacon sausage and spam;\n",
    "spam egg spam spam bacon and spam; spam sausage spam spam bacon spam tomato and spam;''' # drei ''' damit erlaubt man Zeilenumbrüche\n",
    "print(spamskit)"
   ]
  },
  {
   "cell_type": "code",
   "execution_count": 33,
   "metadata": {
    "slideshow": {
     "slide_type": "fragment"
    }
   },
   "outputs": [
    {
     "name": "stdout",
     "output_type": "stream",
     "text": [
      "['Well,', \"there's\", 'egg', 'and', 'bacon;', 'egg', 'sausage', 'and', 'bacon;', 'egg', 'and', 'spam;', 'egg', 'bacon', 'and', 'spam;', 'egg', 'bacon', 'sausage', 'and', 'spam;', 'spam', 'bacon', 'sausage', 'and', 'spam;', 'spam', 'egg', 'spam', 'spam', 'bacon', 'and', 'spam;', 'spam', 'sausage', 'spam', 'spam', 'bacon', 'spam', 'tomato', 'and', 'spam;']\n"
     ]
    }
   ],
   "source": [
    "# Strings that are opened and closed by ''' may contain line breaks (as initialized above)\n",
    "tokens = spamskit.split()\n",
    "print(tokens)"
   ]
  },
  {
   "cell_type": "code",
   "execution_count": 35,
   "metadata": {
    "slideshow": {
     "slide_type": "fragment"
    }
   },
   "outputs": [
    {
     "name": "stdout",
     "output_type": "stream",
     "text": [
      "42\n",
      "10\n"
     ]
    }
   ],
   "source": [
    "print(len(tokens))\n",
    "print(len(set(tokens))) # set() eliminate duplicates"
   ]
  },
  {
   "cell_type": "code",
   "execution_count": 36,
   "metadata": {
    "scrolled": false,
    "slideshow": {
     "slide_type": "subslide"
    }
   },
   "outputs": [
    {
     "name": "stdout",
     "output_type": "stream",
     "text": [
      "sausage 4\n",
      "spam 8\n",
      "tomato 1\n",
      "spam; 6\n",
      "and 8\n",
      "bacon 5\n",
      "Well, 1\n",
      "bacon; 2\n",
      "egg 6\n",
      "there's 1\n"
     ]
    }
   ],
   "source": [
    "## Print frequency of words:\n",
    "for token in set(tokens):\n",
    "    print(token, tokens.count(token))"
   ]
  },
  {
   "cell_type": "markdown",
   "metadata": {
    "slideshow": {
     "slide_type": "subslide"
    }
   },
   "source": [
    "### Exercise 4\n",
    "\n",
    "Write a programme which takes a list of integers as input and returns for an even number its squared value and for an odd number the number itself.\n",
    "\n",
    "4 -> squared(4)    \n",
    "5 -> 5"
   ]
  },
  {
   "cell_type": "code",
   "execution_count": 43,
   "metadata": {
    "slideshow": {
     "slide_type": "subslide"
    }
   },
   "outputs": [
    {
     "name": "stdout",
     "output_type": "stream",
     "text": [
      "0 is: even. The result is: 0\n",
      "1 is: odd. The result is: 1\n",
      "2 is: even. The result is: 4\n",
      "3 is: odd. The result is: 3\n",
      "4 is: even. The result is: 16\n",
      "5 is: odd. The result is: 5\n",
      "6 is: even. The result is: 36\n",
      "7 is: odd. The result is: 7\n",
      "8 is: even. The result is: 64\n",
      "9 is: odd. The result is: 9\n"
     ]
    }
   ],
   "source": [
    "# Code for Exercise 4\n",
    "def check_even(number):\n",
    "    if number % 2 !=  0:\n",
    "        number_status = 'odd'\n",
    "    else:\n",
    "        number_status = 'even'\n",
    "    return number_status\n",
    "\n",
    "def square(number):\n",
    "    ans = number **2\n",
    "    return ans\n",
    "\n",
    "def my_code(number):\n",
    "    number_status = check_even(number)\n",
    "    \n",
    "    if number_status == 'even': \n",
    "        \n",
    "        ans = square(number)\n",
    "        \n",
    "    else:\n",
    "        \n",
    "        ans = number\n",
    "        \n",
    "    return ans, number_status\n",
    "\n",
    "empty_list=[]\n",
    "\n",
    "for number in range(10):\n",
    "    \n",
    "    ans, number_status = my_code(number)\n",
    "    \n",
    "    print(str(number) + ' is: ' + number_status + '. The result is: ' + str(ans))\n",
    "    \n",
    "    empty_list.append(ans)\n",
    "    "
   ]
  },
  {
   "cell_type": "markdown",
   "metadata": {},
   "source": [
    "\n",
    "\n",
    "\n",
    "___\n",
    "\n",
    "                \n",
    "**Contact: Gerome Wolf** (Email: wolfgerome@gmail.com)"
   ]
  }
 ],
 "metadata": {
  "celltoolbar": "Slideshow",
  "kernelspec": {
   "display_name": "Python 3",
   "language": "python",
   "name": "python3"
  },
  "language_info": {
   "codemirror_mode": {
    "name": "ipython",
    "version": 3
   },
   "file_extension": ".py",
   "mimetype": "text/x-python",
   "name": "python",
   "nbconvert_exporter": "python",
   "pygments_lexer": "ipython3",
   "version": "3.9.2"
  }
 },
 "nbformat": 4,
 "nbformat_minor": 2
}
